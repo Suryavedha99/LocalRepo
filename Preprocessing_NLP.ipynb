{
  "nbformat": 4,
  "nbformat_minor": 0,
  "metadata": {
    "colab": {
      "provenance": [],
      "authorship_tag": "ABX9TyNAw4tyjp2rBrNTubyCOaJX",
      "include_colab_link": true
    },
    "kernelspec": {
      "name": "python3",
      "display_name": "Python 3"
    },
    "language_info": {
      "name": "python"
    }
  },
  "cells": [
    {
      "cell_type": "markdown",
      "metadata": {
        "id": "view-in-github",
        "colab_type": "text"
      },
      "source": [
        "<a href=\"https://colab.research.google.com/github/Suryavedha99/LocalRepo/blob/main/Preprocessing_NLP.ipynb\" target=\"_parent\"><img src=\"https://colab.research.google.com/assets/colab-badge.svg\" alt=\"Open In Colab\"/></a>"
      ]
    },
    {
      "cell_type": "code",
      "source": [
        "import pandas as pd\n",
        "from nltk.stem.porter import PorterStemmer"
      ],
      "metadata": {
        "id": "uorH094LJ1VV"
      },
      "execution_count": 40,
      "outputs": []
    },
    {
      "cell_type": "code",
      "source": [
        "import nltk\n",
        "from nltk.corpus import stopwords\n",
        "nltk.download('stopwords')"
      ],
      "metadata": {
        "id": "H_9VdiQ-J8MK"
      },
      "execution_count": null,
      "outputs": []
    },
    {
      "cell_type": "code",
      "source": [
        "df=pd.read_csv('/content/Restaurant_Reviews 1.tsv',delimiter='\\t',quoting=3)"
      ],
      "metadata": {
        "id": "s2ya8cxmKDih"
      },
      "execution_count": 42,
      "outputs": []
    },
    {
      "cell_type": "code",
      "source": [
        "df.head()"
      ],
      "metadata": {
        "id": "wa-FRZsKKc66"
      },
      "execution_count": null,
      "outputs": []
    },
    {
      "cell_type": "code",
      "source": [
        "df.shape"
      ],
      "metadata": {
        "id": "UtZkaEQlO0Ya"
      },
      "execution_count": null,
      "outputs": []
    },
    {
      "cell_type": "code",
      "source": [
        "df.columns"
      ],
      "metadata": {
        "id": "mB4SMBYBPNG-"
      },
      "execution_count": null,
      "outputs": []
    },
    {
      "cell_type": "code",
      "source": [
        "import string\n",
        "import re\n",
        "corpus =[]\n",
        "for i in range(0,1000):\n",
        "  review=re.sub(pattern='[^a-zA-Z]',repl=' ',string=df['Review'][i])\n",
        "  review=review.lower()\n",
        "  review_word=review.split()\n",
        "  review_word=[word for word in review_word if not word in set(stopwords.words('english'))]\n",
        "  ps=PorterStemmer()\n",
        "  review1=[ps.stem(word) for word in review_word]\n",
        "  review=' '.join(review1)\n",
        "  corpus.append(review)"
      ],
      "metadata": {
        "id": "H3U7XQRgQD2g"
      },
      "execution_count": 46,
      "outputs": []
    },
    {
      "cell_type": "code",
      "source": [
        "set(stopwords.words('english'))"
      ],
      "metadata": {
        "id": "JW_MZ0CkFRzP"
      },
      "execution_count": null,
      "outputs": []
    },
    {
      "cell_type": "code",
      "source": [
        "corpus[:1000]"
      ],
      "metadata": {
        "id": "nfcAM-n_Q1IC"
      },
      "execution_count": null,
      "outputs": []
    },
    {
      "cell_type": "code",
      "source": [
        "from sklearn.feature_extraction.text import CountVectorizer\n",
        "cv=CountVectorizer(max_features=1500)\n",
        "x=cv.fit_transform(corpus).toarray()\n",
        "y=df.iloc[:,-1].values"
      ],
      "metadata": {
        "id": "-WL-qzyQLQOD"
      },
      "execution_count": 49,
      "outputs": []
    },
    {
      "cell_type": "code",
      "source": [
        "x.shape"
      ],
      "metadata": {
        "id": "O24b8mlSMcKm"
      },
      "execution_count": null,
      "outputs": []
    },
    {
      "cell_type": "code",
      "source": [
        "y.shape"
      ],
      "metadata": {
        "colab": {
          "base_uri": "https://localhost:8080/"
        },
        "id": "K5rjViumMkdU",
        "outputId": "d698420f-5172-42df-fb40-b0c0e289b969"
      },
      "execution_count": 51,
      "outputs": [
        {
          "output_type": "execute_result",
          "data": {
            "text/plain": [
              "(1000,)"
            ]
          },
          "metadata": {},
          "execution_count": 51
        }
      ]
    },
    {
      "cell_type": "code",
      "source": [
        "x[0]"
      ],
      "metadata": {
        "id": "3fIBUwIcMv7Q"
      },
      "execution_count": null,
      "outputs": []
    },
    {
      "cell_type": "code",
      "source": [
        "x[0].max()"
      ],
      "metadata": {
        "id": "U4omorXCM0zv"
      },
      "execution_count": null,
      "outputs": []
    },
    {
      "cell_type": "code",
      "source": [
        "from sklearn.model_selection import train_test_split\n",
        "from sklearn.naive_bayes import GaussianNB, MultinomialNB, BernoulliNB\n",
        "from sklearn.metrics import accuracy_score\n",
        "\n",
        "#using the train test split function\n",
        "x_train, x_test, y_train, y_test = train_test_split(x, y, test_size = 0.20, random_state = 104)\n",
        "\n",
        "# Initialize classifiers\n",
        "clf1=GaussianNB()\n",
        "clf2=MultinomialNB()\n",
        "clf3=BernoulliNB()\n",
        "\n",
        "# Fit the classifiers\n",
        "clf1.fit(x_train,y_train)\n",
        "clf2.fit(x_train,y_train)\n",
        "clf3.fit(x_train,y_train)\n",
        "\n",
        "# Make predictions\n",
        "y_predictG=clf1.predict(x_test)\n",
        "y_predictM=clf2.predict(x_test)\n",
        "y_predictB=clf3.predict(x_test)\n",
        "\n",
        "# Calculate and print accuracy scores\n",
        "print('Gaussian',accuracy_score(y_test,y_predictG))\n",
        "print('Multinomial',accuracy_score(y_test,y_predictM))\n",
        "print('Bernoulli',accuracy_score(y_test,y_predictB))"
      ],
      "metadata": {
        "id": "fwiwBfHxO5G6"
      },
      "execution_count": null,
      "outputs": []
    },
    {
      "cell_type": "code",
      "source": [
        "# Import necessary libraries\n",
        "from sklearn.ensemble import RandomForestClassifier\n",
        "from sklearn.metrics import accuracy_score\n",
        "from xgboost import XGBClassifier\n",
        "from sklearn.metrics import confusion_matrix\n",
        "\n",
        "# Assuming x_train, y_train, x_test, y_test are already defined...\n",
        "\n",
        "# RandomForestClassifier\n",
        "rf = RandomForestClassifier()\n",
        "rf.fit(x_train, y_train)\n",
        "y_pred = rf.predict(x_test)\n",
        "accuracy_score(y_test, y_pred)\n",
        "\n",
        "# XGBClassifier\n",
        "xgb = XGBClassifier()\n",
        "xgb.fit(x_train, y_train)\n",
        "y_pred1 = xgb.predict(x_test)\n",
        "accuracy_score(y_test, y_pred1) # Use y_pred1 here, not y_pred\n",
        "\n",
        "# Confusion Matrix\n",
        "confusion_matrix(y_test, y_pred)\n",
        "confusion_matrix(y_test, y_pred1)"
      ],
      "metadata": {
        "id": "2E_7umxMRFB1"
      },
      "execution_count": null,
      "outputs": []
    }
  ]
}